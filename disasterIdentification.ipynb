{
 "cells": [
  {
   "cell_type": "markdown",
   "metadata": {},
   "source": [
    "# Import image processing libraries"
   ]
  },
  {
   "cell_type": "code",
   "execution_count": 30,
   "metadata": {},
   "outputs": [],
   "source": [
    "import _pickle as cPickle\n",
    "import numpy as np\n",
    "from PIL import Image\n",
    "import os\n",
    "import sys\n",
    "import cv2\n",
    "import pandas as pd"
   ]
  },
  {
   "cell_type": "code",
   "execution_count": 406,
   "metadata": {},
   "outputs": [],
   "source": [
    "label = []\n",
    "disasterImageArr = []"
   ]
  },
  {
   "cell_type": "markdown",
   "metadata": {},
   "source": [
    "# Load images of disaster site"
   ]
  },
  {
   "cell_type": "code",
   "execution_count": 407,
   "metadata": {},
   "outputs": [],
   "source": [
    "# import os\n",
    "import scipy.misc\n",
    "label\n",
    "#for filename in os.listdir('/Users/ajinkya.parkar@ibm.com/Documents/deep/ImageDetection/ImageData/CrisisMMD_v1.0/data_image/All/'):\n",
    "for filename in os.listdir('/Users/ajinkya.parkar@ibm.com/Documents/deep/ImageDetection/ImageData/CrisisMMD_v1.0/data_image/blood'):    \n",
    "    \n",
    "    if filename.endswith(\".jpg\"): \n",
    "        \n",
    "         # print(os.path.join(directory, filename))\n",
    "        #print('/Users/ajinkya.parkar@ibm.com/Documents/deep/ImageDetection/data/persons/'+filename)\n",
    "        #print('/Users/ajinkya.parkar@ibm.com/Documents/deep/ImageDetection/ImageData/CrisisMMD_v1.0/data_image/All/'+filename)\n",
    "        img = cv2.imread('/Users/ajinkya.parkar@ibm.com/Documents/deep/ImageDetection/ImageData/CrisisMMD_v1.0/data_image/blood/'+filename)\n",
    "        img = cv2.resize(img,(32,32))\n",
    "        #img = img.transpose((2,0,1))\n",
    "        disasterImageArr.append(img)\n",
    "        label.append(1)\n",
    "        continue\n",
    "    else:\n",
    "        continue"
   ]
  },
  {
   "cell_type": "code",
   "execution_count": 408,
   "metadata": {},
   "outputs": [],
   "source": [
    "disasterImageArr = np.array(disasterImageArr)"
   ]
  },
  {
   "cell_type": "code",
   "execution_count": 409,
   "metadata": {},
   "outputs": [
    {
     "data": {
      "text/plain": [
       "(1980, 32, 32, 3)"
      ]
     },
     "execution_count": 409,
     "metadata": {},
     "output_type": "execute_result"
    }
   ],
   "source": [
    "disasterImageArr.shape"
   ]
  },
  {
   "cell_type": "code",
   "execution_count": 410,
   "metadata": {},
   "outputs": [],
   "source": [
    "normalImageArr = []"
   ]
  },
  {
   "cell_type": "markdown",
   "metadata": {},
   "source": [
    "# Load images of normal site"
   ]
  },
  {
   "cell_type": "code",
   "execution_count": 411,
   "metadata": {},
   "outputs": [],
   "source": [
    "import os\n",
    "import scipy.misc\n",
    "#for filename in os.listdir('/Users/ajinkya.parkar@ibm.com/Documents/deep/ImageDetection/ImageData/CrisisMMD_v1.0/data_image/All_natural/'):\n",
    "for filename in os.listdir('/Users/ajinkya.parkar@ibm.com/Documents/deep/ImageDetection/ImageData/CrisisMMD_v1.0/data_image/healthy'):   \n",
    "    if filename.endswith(\".jpg\"): \n",
    "        \n",
    "         # print(os.path.join(directory, filename))\n",
    "        #print('/Users/ajinkya.parkar@ibm.com/Documents/deep/ImageDetection/data/persons/'+filename)\n",
    "        #print('/Users/ajinkya.parkar@ibm.com/Downloads/untitled folder/CrisisMMD_v1.0/data_image/california_wildfires/10_10_201/'+filename)\n",
    "        img = cv2.imread('/Users/ajinkya.parkar@ibm.com/Documents/deep/ImageDetection/ImageData/CrisisMMD_v1.0/data_image/healthy/'+filename)\n",
    "        img = cv2.resize(img,(32,32))\n",
    "        #img = img.transpose((2,0,1))\n",
    "        normalImageArr.append(img)\n",
    "        label.append(0)\n",
    "        continue\n",
    "    else:\n",
    "        continue"
   ]
  },
  {
   "cell_type": "code",
   "execution_count": 412,
   "metadata": {},
   "outputs": [
    {
     "data": {
      "text/plain": [
       "(1980, 32, 32, 3)"
      ]
     },
     "execution_count": 412,
     "metadata": {},
     "output_type": "execute_result"
    }
   ],
   "source": [
    "normalImageArr = np.array(normalImageArr)\n",
    "normalImageArr.shape"
   ]
  },
  {
   "cell_type": "markdown",
   "metadata": {},
   "source": [
    "# Concatenate disaster and normal images "
   ]
  },
  {
   "cell_type": "code",
   "execution_count": 413,
   "metadata": {},
   "outputs": [
    {
     "data": {
      "text/plain": [
       "(3960, 32, 32, 3)"
      ]
     },
     "execution_count": 413,
     "metadata": {},
     "output_type": "execute_result"
    }
   ],
   "source": [
    "train_X =  np.concatenate((disasterImageArr, normalImageArr), axis=0)\n",
    "train_X.shape"
   ]
  },
  {
   "cell_type": "code",
   "execution_count": 414,
   "metadata": {},
   "outputs": [
    {
     "data": {
      "text/plain": [
       "(3960,)"
      ]
     },
     "execution_count": 414,
     "metadata": {},
     "output_type": "execute_result"
    }
   ],
   "source": [
    "train_y = np.array(label)\n",
    "train_y.shape"
   ]
  },
  {
   "cell_type": "code",
   "execution_count": 415,
   "metadata": {},
   "outputs": [
    {
     "data": {
      "text/plain": [
       "array([[0., 1.],\n",
       "       [0., 1.],\n",
       "       [0., 1.],\n",
       "       ...,\n",
       "       [1., 0.],\n",
       "       [1., 0.],\n",
       "       [1., 0.]])"
      ]
     },
     "execution_count": 415,
     "metadata": {},
     "output_type": "execute_result"
    }
   ],
   "source": [
    "from sklearn.preprocessing import OneHotEncoder\n",
    "enc = OneHotEncoder(handle_unknown='ignore')\n",
    "train_y = enc.fit_transform(train_y.reshape(train_y.shape[0],1)).toarray()\n",
    "train_y"
   ]
  },
  {
   "cell_type": "code",
   "execution_count": 439,
   "metadata": {},
   "outputs": [],
   "source": [
    "train_y = train_y.astype(int)"
   ]
  },
  {
   "cell_type": "code",
   "execution_count": 440,
   "metadata": {},
   "outputs": [],
   "source": [
    "from sklearn.model_selection import train_test_split"
   ]
  },
  {
   "cell_type": "markdown",
   "metadata": {},
   "source": [
    "# Split into train test 80/20 using sklearn"
   ]
  },
  {
   "cell_type": "code",
   "execution_count": 444,
   "metadata": {},
   "outputs": [],
   "source": [
    "X_train, X_test, y_train, y_test = train_test_split(train_X, train_y, test_size=0.20, random_state=42)"
   ]
  },
  {
   "cell_type": "markdown",
   "metadata": {},
   "source": [
    "# Load keras libraries"
   ]
  },
  {
   "cell_type": "code",
   "execution_count": 445,
   "metadata": {},
   "outputs": [],
   "source": [
    "from keras.models import Sequential\n",
    "from keras.layers import Conv2D, MaxPooling2D\n",
    "from keras.layers import Activation, Dropout, Flatten, Dense"
   ]
  },
  {
   "cell_type": "markdown",
   "metadata": {},
   "source": [
    "# Set CNN model layers"
   ]
  },
  {
   "cell_type": "code",
   "execution_count": 446,
   "metadata": {},
   "outputs": [],
   "source": [
    "model = Sequential()\n",
    "model.add(Conv2D(32, (3, 3), input_shape=(32, 32, 3)))\n",
    "model.add(Activation('relu'))\n",
    "model.add(MaxPooling2D(pool_size=(2, 2)))\n",
    "model.add(Conv2D(32, (3, 3)))\n",
    "model.add(Activation('relu'))\n",
    "model.add(MaxPooling2D(pool_size=(2, 2)))\n",
    "\n",
    "model.add(Conv2D(64, (3, 3)))\n",
    "model.add(Activation('relu'))\n",
    "model.add(MaxPooling2D(pool_size=(2, 2)))\n",
    "\n",
    "model.add(Flatten())  # this converts our 3D feature maps to 1D feature vectors\n",
    "model.add(Dense(64))\n",
    "model.add(Activation('relu'))\n",
    "\n",
    "model.add(Dropout(0.5))\n",
    "model.add(Dense(2))\n",
    "model.add(Activation('sigmoid'))\n",
    "\n",
    "model.compile(loss='binary_crossentropy',\n",
    "              #optimizer='rmsprop',\n",
    "              optimizer='adam',\n",
    "              metrics=['accuracy'])\n",
    "\n",
    "from keras.preprocessing.image import ImageDataGenerator, array_to_img, img_to_array, load_img\n",
    "# this is the augmentation configuration we will use for training\n"
   ]
  },
  {
   "cell_type": "code",
   "execution_count": 447,
   "metadata": {},
   "outputs": [],
   "source": [
    "train_datagen = ImageDataGenerator(\n",
    "        rescale=1./255,\n",
    "        shear_range=0.2,\n",
    "        zoom_range=0.2,\n",
    "        horizontal_flip=True)"
   ]
  },
  {
   "cell_type": "code",
   "execution_count": 448,
   "metadata": {},
   "outputs": [],
   "source": [
    "val_datagen = ImageDataGenerator(\n",
    "        rescale=1./255,\n",
    "        shear_range=0.2,\n",
    "        zoom_range=0.2,\n",
    "        horizontal_flip=True)"
   ]
  },
  {
   "cell_type": "code",
   "execution_count": 449,
   "metadata": {},
   "outputs": [],
   "source": [
    "train_generator = train_datagen.flow(X_train,y_train,batch_size=20)"
   ]
  },
  {
   "cell_type": "code",
   "execution_count": 450,
   "metadata": {},
   "outputs": [],
   "source": [
    "val_generator = val_datagen.flow(X_test,y_test,batch_size=20)"
   ]
  },
  {
   "cell_type": "code",
   "execution_count": 451,
   "metadata": {},
   "outputs": [
    {
     "name": "stdout",
     "output_type": "stream",
     "text": [
      "Epoch 1/20\n",
      "317/316 [==============================] - 48s 152ms/step - loss: 0.5553 - acc: 0.7041 - val_loss: 0.3831 - val_acc: 0.8491\n",
      "Epoch 2/20\n",
      "317/316 [==============================] - 46s 144ms/step - loss: 0.3283 - acc: 0.8632 - val_loss: 0.1772 - val_acc: 0.9451\n",
      "Epoch 3/20\n",
      "317/316 [==============================] - 45s 142ms/step - loss: 0.1512 - acc: 0.9437 - val_loss: 0.0807 - val_acc: 0.9665\n",
      "Epoch 4/20\n",
      "317/316 [==============================] - 49s 154ms/step - loss: 0.0681 - acc: 0.9763 - val_loss: 0.0428 - val_acc: 0.9874\n",
      "Epoch 5/20\n",
      "317/316 [==============================] - 45s 142ms/step - loss: 0.0252 - acc: 0.9934 - val_loss: 0.0046 - val_acc: 1.0000\n",
      "Epoch 6/20\n",
      "317/316 [==============================] - 47s 148ms/step - loss: 0.0328 - acc: 0.9892 - val_loss: 0.0346 - val_acc: 0.9861\n",
      "Epoch 7/20\n",
      "317/316 [==============================] - 47s 148ms/step - loss: 0.0055 - acc: 0.9989 - val_loss: 0.0135 - val_acc: 0.9975\n",
      "Epoch 8/20\n",
      "317/316 [==============================] - 46s 144ms/step - loss: 0.0230 - acc: 0.9929 - val_loss: 0.0079 - val_acc: 0.9975\n",
      "Epoch 9/20\n",
      "317/316 [==============================] - 45s 143ms/step - loss: 0.0069 - acc: 0.9985 - val_loss: 4.5719e-04 - val_acc: 1.0000\n",
      "Epoch 10/20\n",
      "317/316 [==============================] - 47s 149ms/step - loss: 9.5533e-04 - acc: 1.0000 - val_loss: 1.0860e-04 - val_acc: 1.0000\n",
      "Epoch 11/20\n",
      "317/316 [==============================] - 57s 181ms/step - loss: 0.0319 - acc: 0.9883 - val_loss: 0.0039 - val_acc: 1.0000\n",
      "Epoch 12/20\n",
      "317/316 [==============================] - 51s 162ms/step - loss: 0.0059 - acc: 0.9990 - val_loss: 0.0012 - val_acc: 1.0000\n",
      "Epoch 13/20\n",
      "317/316 [==============================] - 50s 156ms/step - loss: 9.1903e-04 - acc: 1.0000 - val_loss: 1.4833e-04 - val_acc: 1.0000\n",
      "Epoch 14/20\n",
      "317/316 [==============================] - 51s 161ms/step - loss: 0.0275 - acc: 0.9907 - val_loss: 0.0035 - val_acc: 1.0000\n",
      "Epoch 15/20\n",
      "317/316 [==============================] - 44s 138ms/step - loss: 0.0158 - acc: 0.9952 - val_loss: 4.4697e-04 - val_acc: 1.0000\n",
      "Epoch 16/20\n",
      "317/316 [==============================] - 44s 140ms/step - loss: 0.0023 - acc: 0.9996 - val_loss: 2.2404e-04 - val_acc: 1.0000\n",
      "Epoch 17/20\n",
      "317/316 [==============================] - 46s 146ms/step - loss: 0.0057 - acc: 0.9985 - val_loss: 6.6772e-04 - val_acc: 1.0000\n",
      "Epoch 18/20\n",
      "317/316 [==============================] - 46s 147ms/step - loss: 5.7924e-04 - acc: 1.0000 - val_loss: 0.0031 - val_acc: 0.9987\n",
      "Epoch 19/20\n",
      "317/316 [==============================] - 46s 146ms/step - loss: 0.0046 - acc: 0.9984 - val_loss: 4.2965e-05 - val_acc: 1.0000\n",
      "Epoch 20/20\n",
      "317/316 [==============================] - 48s 151ms/step - loss: 0.0265 - acc: 0.9921 - val_loss: 0.0041 - val_acc: 0.9987\n"
     ]
    }
   ],
   "source": [
    "history = model.fit_generator(train_generator,\n",
    "                    steps_per_epoch=len(X_train) / 10, epochs=20,validation_data=val_generator)"
   ]
  },
  {
   "cell_type": "code",
   "execution_count": 431,
   "metadata": {},
   "outputs": [
    {
     "data": {
      "text/plain": [
       "3168"
      ]
     },
     "execution_count": 431,
     "metadata": {},
     "output_type": "execute_result"
    }
   ],
   "source": [
    "len(y_train)"
   ]
  },
  {
   "cell_type": "code",
   "execution_count": 432,
   "metadata": {},
   "outputs": [
    {
     "name": "stdout",
     "output_type": "stream",
     "text": [
      "1565\n"
     ]
    }
   ],
   "source": [
    "count = 0\n",
    "for i in y_train:\n",
    "    if(i[1] == 1):\n",
    "        #print(i) \n",
    "        count +=1\n",
    "print(count)       "
   ]
  },
  {
   "cell_type": "code",
   "execution_count": 433,
   "metadata": {},
   "outputs": [
    {
     "data": {
      "image/png": "[encoded data removed]",
      "text/plain": [
       "<matplotlib.figure.Figure at 0x182359acf8>"
      ]
     },
     "metadata": {},
     "output_type": "display_data"
    }
   ],
   "source": [
    "import matplotlib.pyplot as plt\n",
    "\n",
    "plt.plot(history.history['acc'])\n",
    "plt.plot(history.history['val_acc'])\n",
    "plt.title('model accuracy')\n",
    "plt.ylabel('accuracy')\n",
    "plt.xlabel('epoch')\n",
    "plt.legend(['train', 'test'], loc='upper left')\n",
    "plt.show()"
   ]
  },
  {
   "cell_type": "markdown",
   "metadata": {},
   "source": [
    "# Save weights"
   ]
  },
  {
   "cell_type": "code",
   "execution_count": 434,
   "metadata": {},
   "outputs": [],
   "source": [
    "model.save_weights('TrainedModel_V12_50Epochs.h5')\n",
    "model_json = model.to_json()\n",
    "with open(\"TrainedModel.json\", \"w\") as json_file:\n",
    "    json_file.write(model_json)"
   ]
  },
  {
   "cell_type": "code",
   "execution_count": 276,
   "metadata": {},
   "outputs": [],
   "source": [
    "import requests\n",
    "API_KEY = 'fd95dd65829a42dea7dfcc8cc9b9fa02'\n",
    "MAX_RESULTS = 1001\n",
    "GROUP_SIZE = 100"
   ]
  },
  {
   "cell_type": "code",
   "execution_count": 395,
   "metadata": {},
   "outputs": [],
   "source": [
    "bingArr = []"
   ]
  },
  {
   "cell_type": "code",
   "execution_count": 401,
   "metadata": {},
   "outputs": [],
   "source": [
    "bingArr = []\n",
    "for i in range(0,20):\n",
    "    headers = {\"Ocp-Apim-Subscription-Key\" : API_KEY}\n",
    "    params = {\"q\": 'injury blood', \"offset\": i, \"count\": GROUP_SIZE}\n",
    "    search = requests.get(URL, headers=headers, params=params)\n",
    "    search.raise_for_status()\n",
    "    results = search.json()\n",
    "    bingArr.append(results)"
   ]
  },
  {
   "cell_type": "code",
   "execution_count": 402,
   "metadata": {},
   "outputs": [
    {
     "data": {
      "text/plain": [
       "20"
      ]
     },
     "execution_count": 402,
     "metadata": {},
     "output_type": "execute_result"
    }
   ],
   "source": [
    "len(bingArr)"
   ]
  },
  {
   "cell_type": "code",
   "execution_count": 403,
   "metadata": {},
   "outputs": [],
   "source": [
    "search = requests.get(URL, headers=headers, params=params)\n",
    "search.raise_for_status()"
   ]
  },
  {
   "cell_type": "code",
   "execution_count": 404,
   "metadata": {},
   "outputs": [],
   "source": [
    "results = search.json()"
   ]
  },
  {
   "cell_type": "code",
   "execution_count": 405,
   "metadata": {},
   "outputs": [
    {
     "name": "stdout",
     "output_type": "stream",
     "text": [
      "0\n",
      "99\n",
      "198\n",
      "297\n",
      "396\n",
      "495\n",
      "594\n",
      "693\n",
      "792\n",
      "891\n",
      "990\n",
      "1089\n",
      "1188\n",
      "1287\n",
      "1386\n",
      "1485\n",
      "1584\n",
      "1683\n",
      "1782\n",
      "1881\n"
     ]
    }
   ],
   "source": [
    "import urllib.request\n",
    "counter = 0\n",
    "for res in bingArr:\n",
    "    print(counter)\n",
    "    for i in range(0,len(res[\"value\"]) - 1):\n",
    "\n",
    "        \n",
    "        urllib.request.urlretrieve(results[\"value\"][i][\"thumbnailUrl\"], \"/Users/ajinkya.parkar@ibm.com/Documents/deep/ImageDetection/ImageData/CrisisMMD_v1.0/data_image/blood/\"+str(i)+str(counter)+\".jpg\")\n",
    "        counter +=1\n"
   ]
  },
  {
   "cell_type": "code",
   "execution_count": null,
   "metadata": {},
   "outputs": [],
   "source": []
  }
 ],
 "metadata": {
  "kernelspec": {
   "display_name": "Python 3",
   "language": "python",
   "name": "python3"
  },
  "language_info": {
   "codemirror_mode": {
    "name": "ipython",
    "version": 3
   },
   "file_extension": ".py",
   "mimetype": "text/x-python",
   "name": "python",
   "nbconvert_exporter": "python",
   "pygments_lexer": "ipython3",
   "version": "3.6.0"
  }
 },
 "nbformat": 4,
 "nbformat_minor": 2
}
